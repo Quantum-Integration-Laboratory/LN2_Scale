{
 "cells": [
  {
   "cell_type": "code",
   "execution_count": 2,
   "id": "efb24693",
   "metadata": {},
   "outputs": [
    {
     "name": "stdout",
     "output_type": "stream",
     "text": [
      "19.200000000000003\n"
     ]
    }
   ],
   "source": [
    "from qil_Dymo import scale\n",
    "usb = scale.USB(vendor_id=0x0922, product_id=0x8009)\n",
    "print(usb.get_weight())"
   ]
  },
  {
   "cell_type": "code",
   "execution_count": 1,
   "id": "a2784ee2",
   "metadata": {},
   "outputs": [],
   "source": [
    "from qil_Dymo.LN2_Log import scaleLog\n",
    "scale=scaleLog()\n"
   ]
  },
  {
   "cell_type": "code",
   "execution_count": 3,
   "id": "d24c8dd0",
   "metadata": {},
   "outputs": [
    {
     "data": {
      "text/plain": [
       "<slack.web.slack_response.SlackResponse at 0x23f6ea6ab80>"
      ]
     },
     "execution_count": 3,
     "metadata": {},
     "output_type": "execute_result"
    }
   ],
   "source": [
    "from qil_Dymo.LN2_Log import simpleSlackBotBluey\n",
    "bot=simpleSlackBotBluey('hardware-bluey',id=False)\n",
    "bot.sendMessage(\"Test\")"
   ]
  }
 ],
 "metadata": {
  "kernelspec": {
   "display_name": "Python 3",
   "language": "python",
   "name": "python3"
  },
  "language_info": {
   "codemirror_mode": {
    "name": "ipython",
    "version": 3
   },
   "file_extension": ".py",
   "mimetype": "text/x-python",
   "name": "python",
   "nbconvert_exporter": "python",
   "pygments_lexer": "ipython3",
   "version": "3.9.7"
  }
 },
 "nbformat": 4,
 "nbformat_minor": 5
}
