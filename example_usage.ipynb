{
 "cells": [
  {
   "cell_type": "code",
   "execution_count": 2,
   "id": "efb24693",
   "metadata": {},
   "outputs": [
    {
     "name": "stdout",
     "output_type": "stream",
     "text": [
      "19.200000000000003\n"
     ]
    }
   ],
   "source": [
    "from qil_Dymo import scale\n",
    "usb = scale.USB(vendor_id=0x0922, product_id=0x8009)\n",
    "print(usb.get_weight())"
   ]
  },
  {
   "cell_type": "code",
   "execution_count": 1,
   "id": "a2784ee2",
   "metadata": {},
   "outputs": [],
   "source": [
    "from qil_Dymo.LN2_Log import scaleLog\n",
    "scale=scaleLog()\n"
   ]
  }
 ],
 "metadata": {
  "interpreter": {
   "hash": "aa8a76d9a9c8de28eeedc62f8e69b4ae28a7825b0f49c2de6e6c826a23820e53"
  },
  "kernelspec": {
   "display_name": "Python 3.9.7 64-bit",
   "language": "python",
   "name": "python3"
  },
  "language_info": {
   "codemirror_mode": {
    "name": "ipython",
    "version": 3
   },
   "file_extension": ".py",
   "mimetype": "text/x-python",
   "name": "python",
   "nbconvert_exporter": "python",
   "pygments_lexer": "ipython3",
   "version": "3.9.7"
  }
 },
 "nbformat": 4,
 "nbformat_minor": 5
}
